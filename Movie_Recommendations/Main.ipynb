{
 "cells": [
  {
   "cell_type": "code",
   "execution_count": 104,
   "id": "1838f10f-3317-41c5-8414-6df91dfc13c9",
   "metadata": {},
   "outputs": [],
   "source": [
    "import pandas as pd\n",
    "from sklearn.feature_extraction.text import TfidfVectorizer\n",
    "\n",
    "import ipywidgets as widgets\n",
    "from IPython.display import display\n",
    "\n",
    "#get the movies data\n",
    "\n",
    "movies_path = \"data/ml-25m/movies.csv\"\n",
    "\n",
    "movies = pd.read_csv(movies_path)"
   ]
  },
  {
   "cell_type": "code",
   "execution_count": 105,
   "id": "3c4f2c72-3672-4995-a8bd-b08ff849be15",
   "metadata": {},
   "outputs": [],
   "source": [
    "import re\n",
    "\n",
    "def clean_title(title):\n",
    "    #Remove characters that aren't space, digit, or upper/lower case letter from the title\n",
    "    return re.sub(\"[^a-zA-Z0-9 ]\",\"\",title)"
   ]
  },
  {
   "cell_type": "code",
   "execution_count": 106,
   "id": "0c2d8c47-72ad-4241-99e9-2c7d36e61c55",
   "metadata": {},
   "outputs": [],
   "source": [
    "movies['clean_title'] = movies[\"title\"].apply(clean_title)"
   ]
  },
  {
   "cell_type": "markdown",
   "id": "f0cb2f45-8f80-4bf7-83b8-9b9af51cc09b",
   "metadata": {},
   "source": [
    "#build the search engine"
   ]
  },
  {
   "cell_type": "code",
   "execution_count": 107,
   "id": "f0263df8-dd51-4625-a660-b8c804467209",
   "metadata": {},
   "outputs": [],
   "source": [
    "#Build a term-frequency matrix\n",
    "#Inverse Document Frequency\n",
    "#Get a vector that describes each movie title\n",
    "    \n",
    "vectorizer = TfidfVectorizer(ngram_range=(1,2))\n",
    "\n",
    "tfidf = vectorizer.fit_transform(movies['clean_title'])"
   ]
  },
  {
   "cell_type": "code",
   "execution_count": 108,
   "id": "b0ef8acf-c8a3-4fdd-a392-492ce4c09e3d",
   "metadata": {},
   "outputs": [],
   "source": [
    "from sklearn.metrics.pairwise import cosine_similarity\n",
    "import numpy as np\n",
    "\n",
    "def search(title):\n",
    "\n",
    "    title = clean_title(title)\n",
    "    #Transform search term into a vector\n",
    "    query_vec = vectorizer.transform([title])\n",
    "    #compare query term and will return similar items\n",
    "    similarity = cosine_similarity(query_vec, tfidf).flatten()\n",
    "\n",
    "    #find title with greatest similarities\n",
    "    indices = np.argpartition(similarity, -1)[-5:]\n",
    "\n",
    "    results = movies.iloc[indices][::-1]\n",
    "    \n",
    "    return results"
   ]
  },
  {
   "cell_type": "code",
   "execution_count": 109,
   "id": "51d88429-5112-4862-8505-2ca88cc5ec37",
   "metadata": {},
   "outputs": [],
   "source": [
    "#Recommendation system\n",
    "\n",
    "#Get recommendation data\n",
    "ratings_path = 'data/ml-25m/ratings.csv'\n",
    "ratings = pd.read_csv(ratings_path)"
   ]
  },
  {
   "cell_type": "code",
   "execution_count": 110,
   "id": "d6c6b2ac-a65a-45ec-8ec5-b75469c231f4",
   "metadata": {},
   "outputs": [],
   "source": [
    "def find_similar_movies(movie_id):\n",
    "    \n",
    "    similar_users = ratings[(ratings['movieId'] == movie_id) & (ratings['rating'] >=5)]['userId'].unique()\n",
    "    #find all movies that people who are similar to us 10% or more also liked\n",
    "    similar_user_recs = ratings[(ratings['userId'].isin(similar_users)) & (ratings['rating'] > 4)]['movieId']\n",
    "    similar_user_recs = similar_user_recs.value_counts()/len(similar_users)\n",
    "    similar_user_recs = similar_user_recs[similar_user_recs > .1]\n",
    "    \n",
    "    # Find out how much all users like movies\n",
    "    all_users = ratings[(ratings[\"movieId\"].isin(similar_user_recs.index)) & (ratings[\"rating\"] > 4)]\n",
    "\n",
    "    #Find what percentage of all users recommend all movies\n",
    "    all_user_recs = all_users[\"movieId\"].value_counts() / len(all_users[\"userId\"].unique())\n",
    "    \n",
    "    #Creating a recommendation score\n",
    "    rec_percentages = pd.concat([similar_user_recs, all_user_recs], axis = 1)\n",
    "    rec_percentages.columns = [\"similar\",\"all\"]\n",
    "\n",
    "    rec_percentages[\"score\"] = rec_percentages[\"similar\"] / rec_percentages[\"all\"]\n",
    "\n",
    "    rec_percentages = rec_percentages.sort_values(\"score\", ascending = False)\n",
    "\n",
    "    return rec_percentages.head(10).merge(movies, left_index=True, right_on = \"movieId\")[[\"score\",\"title\",\"genres\"]]"
   ]
  },
  {
   "cell_type": "code",
   "execution_count": 111,
   "id": "859f6753-4727-4da1-b9a1-5ea14cc9374e",
   "metadata": {},
   "outputs": [
    {
     "data": {
      "application/vnd.jupyter.widget-view+json": {
       "model_id": "1cc900d99d6e437c8d928b22a4a5d7f2",
       "version_major": 2,
       "version_minor": 0
      },
      "text/plain": [
       "Text(value='Toy Story', description='Movie Title: ')"
      ]
     },
     "metadata": {},
     "output_type": "display_data"
    },
    {
     "data": {
      "application/vnd.jupyter.widget-view+json": {
       "model_id": "03b9998875144ab080c6f826756cce93",
       "version_major": 2,
       "version_minor": 0
      },
      "text/plain": [
       "Output()"
      ]
     },
     "metadata": {},
     "output_type": "display_data"
    }
   ],
   "source": [
    "#Build interactive Jupyter Notebook Widget\n",
    "\n",
    "movie_name_input = widgets.Text(\n",
    "    value = \"Toy Story\",\n",
    "    description = \"Movie Title: \",\n",
    "    disabled = False\n",
    ")\n",
    "\n",
    "recommendation_list = widgets.Output()\n",
    "\n",
    "def on_type(data):\n",
    "    with recommendation_list:\n",
    "        recommendation_list.clear_output()\n",
    "        title = data[\"new\"]\n",
    "        if len(title) >5:\n",
    "            results = search(title)\n",
    "            movie_id = results.iloc[0][\"movieId\"]\n",
    "            display(find_similar_movies(movie_id))\n",
    "\n",
    "movie_name_input.observe(on_type,names = 'value')\n",
    "\n",
    "display(movie_name_input, recommendation_list)"
   ]
  },
  {
   "cell_type": "markdown",
   "id": "05b72998-4e66-4a86-ac18-43449d2520b7",
   "metadata": {},
   "source": [
    "Next Steps\n",
    "- Improve quality of Recommendations\n",
    "- Add input box for showing genres as filter or recommendation driver\n",
    "- Use metadata from other files to improve recommendations"
   ]
  },
  {
   "cell_type": "code",
   "execution_count": null,
   "id": "bb05f803-cca2-43ae-8974-55ce2f2fe473",
   "metadata": {},
   "outputs": [],
   "source": []
  },
  {
   "cell_type": "code",
   "execution_count": null,
   "id": "ecf611ef-716d-4f9b-bda2-db8e435754af",
   "metadata": {},
   "outputs": [],
   "source": []
  }
 ],
 "metadata": {
  "kernelspec": {
   "display_name": "Python 3",
   "language": "python",
   "name": "python3"
  },
  "language_info": {
   "codemirror_mode": {
    "name": "ipython",
    "version": 3
   },
   "file_extension": ".py",
   "mimetype": "text/x-python",
   "name": "python",
   "nbconvert_exporter": "python",
   "pygments_lexer": "ipython3",
   "version": "3.8.8"
  }
 },
 "nbformat": 4,
 "nbformat_minor": 5
}
